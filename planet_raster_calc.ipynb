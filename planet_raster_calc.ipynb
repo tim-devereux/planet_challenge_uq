{
 "cells": [
  {
   "cell_type": "code",
   "execution_count": 46,
   "metadata": {},
   "outputs": [],
   "source": [
    "import rasterio, matplotlib.pyplot as plt, pandas as pd, numpy as np"
   ]
  },
  {
   "cell_type": "code",
   "execution_count": 47,
   "metadata": {},
   "outputs": [],
   "source": [
    "image_file = ('/home/dev103/ownCloud/PLANET_CHALLENGE/Planet/litchfieldData/2021-08-31_7f175324-5ded-4cf8-801b-bae9d60774cd/files/composite.tif')"
   ]
  },
  {
   "cell_type": "code",
   "execution_count": 48,
   "metadata": {},
   "outputs": [],
   "source": [
    "# Load bands - note all PlanetScope 4-band images have band order BGRN\n",
    "with rasterio.open(image_file) as src:\n",
    "    band_blue = src.read(1)\n",
    "    band_green = src.read(2)\n",
    "    band_red = src.read(3)\n",
    "    band_nir = src.read(4)"
   ]
  },
  {
   "cell_type": "code",
   "execution_count": 49,
   "metadata": {},
   "outputs": [],
   "source": [
    "from xml.dom import minidom\n",
    "\n",
    "xmldoc = minidom.parse(\"/home/dev103/ownCloud/PLANET_CHALLENGE/Planet/litchfieldData/2021-08-31_7f175324-5ded-4cf8-801b-bae9d60774cd/files/20210831_005334_40_225a_3B_AnalyticMS_metadata_clip.xml\")\n",
    "nodes = xmldoc.getElementsByTagName(\"ps:bandSpecificMetadata\")\n",
    "\n",
    "# XML parser refers to bands by numbers 1-4\n",
    "coeffs = {}\n",
    "for node in nodes:\n",
    "    bn = node.getElementsByTagName(\"ps:bandNumber\")[0].firstChild.data\n",
    "    if bn in ['1', '2', '3', '4']:\n",
    "        i = int(bn)\n",
    "        value = node.getElementsByTagName(\"ps:reflectanceCoefficient\")[0].firstChild.data\n",
    "        coeffs[i] = float(value)"
   ]
  },
  {
   "cell_type": "code",
   "execution_count": 50,
   "metadata": {},
   "outputs": [],
   "source": [
    "# Multiply by corresponding coefficients = band_red * coeffs[3]\n",
    "band_blue = band_blue * coeffs[1]\n",
    "band_green = band_green * coeffs[2]\n",
    "band_red = band_red * coeffs[3]\n",
    "band_nir = band_nir * coeffs[4]"
   ]
  },
  {
   "cell_type": "code",
   "execution_count": 51,
   "metadata": {},
   "outputs": [
    {
     "data": {
      "text/plain": [
       "{'divide': 'ignore', 'over': 'warn', 'under': 'ignore', 'invalid': 'ignore'}"
      ]
     },
     "execution_count": 51,
     "metadata": {},
     "output_type": "execute_result"
    }
   ],
   "source": [
    "# Allow division by zero\n",
    "np.seterr(divide='ignore', invalid='ignore')"
   ]
  },
  {
   "cell_type": "code",
   "execution_count": 52,
   "metadata": {},
   "outputs": [
    {
     "data": {
      "text/plain": [
       "array([[0.67973946, 0.6803611 , 0.67287201, ..., 0.63668672, 0.62907257,\n",
       "        0.60929218],\n",
       "       [0.68342081, 0.68754733, 0.68543533, ..., 0.62677139, 0.6249371 ,\n",
       "        0.61718721],\n",
       "       [0.68474913, 0.68424647, 0.68371433, ..., 0.62546222, 0.62752364,\n",
       "        0.63038491],\n",
       "       ...,\n",
       "       [0.66599836, 0.65524375, 0.65276819, ..., 0.64189163, 0.63751491,\n",
       "        0.62794908],\n",
       "       [0.65627676, 0.64611909, 0.63848873, ..., 0.62925186, 0.62446084,\n",
       "        0.62562674],\n",
       "       [0.64489259, 0.64541638, 0.647008  , ..., 0.63226768, 0.61810714,\n",
       "        0.6230811 ]])"
      ]
     },
     "execution_count": 52,
     "metadata": {},
     "output_type": "execute_result"
    }
   ],
   "source": [
    "# Calculate NDVI\n",
    "NDVI = (band_nir.astype(float) - band_red.astype(float)) / (band_nir + band_red)\n",
    "\n",
    "# Set spatial characteristics of the output object to mirror the input\n",
    "kwargs = src.meta\n",
    "kwargs.update(\n",
    "    dtype=rasterio.float32,\n",
    "    count = 1)\n",
    "\n",
    "# Create the file\n",
    "with rasterio.open('NDVI.tif', 'w', **kwargs) as dst:\n",
    "        dst.write_band(1, NDVI.astype(rasterio.float32))\n",
    "\n",
    "plt.imsave(\"NDVI_cmap.png\", NDVI, cmap=plt.cm.summer)\n",
    "\n",
    "NDVI"
   ]
  },
  {
   "cell_type": "code",
   "execution_count": 53,
   "metadata": {},
   "outputs": [
    {
     "data": {
      "text/plain": [
       "array([[0.20883698, 0.19845794, 0.21225093, ..., 0.22269081, 0.23012796,\n",
       "        0.23823799],\n",
       "       [0.19610427, 0.18913491, 0.18576807, ..., 0.23126938, 0.22423588,\n",
       "        0.23068009],\n",
       "       [0.20967439, 0.19935792, 0.18258493, ..., 0.24103495, 0.22321884,\n",
       "        0.2168601 ],\n",
       "       ...,\n",
       "       [0.20546866, 0.2223167 , 0.23162438, ..., 0.23765003, 0.24010737,\n",
       "        0.24770305],\n",
       "       [0.21657429, 0.22702527, 0.24295641, ..., 0.22930198, 0.23163813,\n",
       "        0.23474702],\n",
       "       [0.23063473, 0.22723434, 0.23718507, ..., 0.22962218, 0.23371244,\n",
       "        0.22867286]])"
      ]
     },
     "execution_count": 53,
     "metadata": {},
     "output_type": "execute_result"
    }
   ],
   "source": [
    "# Calculate NDI45\n",
    "NDI45 = (band_red.astype(float) - band_green.astype(float)) / (band_red.astype(float) + band_green.astype(float))\n",
    "\n",
    "# Set spatial characteristics of the output object to mirror the input\n",
    "kwargs = src.meta\n",
    "kwargs.update(\n",
    "    dtype=rasterio.float32,\n",
    "    count = 1)\n",
    "\n",
    "# Create the file\n",
    "with rasterio.open('NDI45.tif', 'w', **kwargs) as dst:\n",
    "        dst.write_band(1, NDI45.astype(rasterio.float32))\n",
    "\n",
    "plt.imsave(\"NDI45_cmap.png\", NDI45, cmap=plt.cm.summer)\n",
    "\n",
    "NDI45"
   ]
  },
  {
   "cell_type": "code",
   "execution_count": 54,
   "metadata": {},
   "outputs": [
    {
     "data": {
      "text/plain": [
       "array([[1.52792402, 1.49519032, 1.53887953, ..., 1.57297871, 1.59783431,\n",
       "        1.62549192],\n",
       "       [1.48788483, 1.46650155, 1.45630258, ..., 1.60169159, 1.57810324,\n",
       "        1.59969874],\n",
       "       [1.53060256, 1.49799511, 1.44673737, ..., 1.63516746, 1.57472775,\n",
       "        1.55382211],\n",
       "       ...,\n",
       "       [1.5172072 , 1.57174096, 1.60289361, ..., 1.62346702, 1.63195078,\n",
       "        1.65852469],\n",
       "       [1.55289042, 1.58740672, 1.6418558 , ..., 1.59505013, 1.60294021,\n",
       "        1.61351481],\n",
       "       [1.59954546, 1.58810672, 1.62186793, ..., 1.59612873, 1.60998627,\n",
       "        1.59293354]])"
      ]
     },
     "execution_count": 54,
     "metadata": {},
     "output_type": "execute_result"
    }
   ],
   "source": [
    "# Calculate RGR\n",
    "RGR = (band_red.astype(float) / band_green.astype(float))\n",
    "\n",
    "# Set spatial characteristics of the output object to mirror the input\n",
    "kwargs = src.meta\n",
    "kwargs.update(\n",
    "    dtype=rasterio.float32,\n",
    "    count = 1)\n",
    "\n",
    "# Create the file\n",
    "with rasterio.open('RGR.tif', 'w', **kwargs) as dst:\n",
    "        dst.write_band(1, RGR.astype(rasterio.float32))\n",
    "\n",
    "plt.imsave(\"RGR_cmap.png\", RGR, cmap=plt.cm.summer)\n",
    "\n",
    "RGR"
   ]
  },
  {
   "cell_type": "code",
   "execution_count": 55,
   "metadata": {},
   "outputs": [
    {
     "data": {
      "text/plain": [
       "array([[0.77811879, 0.77427417, 0.77450929, ..., 0.7526619 , 0.75054609,\n",
       "        0.74009984],\n",
       "       [0.77558044, 0.77579808, 0.77280109, ..., 0.74941133, 0.74480147,\n",
       "        0.74219843],\n",
       "       [0.78212974, 0.77754017, 0.77015611, ..., 0.75297932, 0.74621618,\n",
       "        0.74535148],\n",
       "       ...,\n",
       "       [0.76656842, 0.76597904, 0.76823736, ..., 0.76312962, 0.76111661,\n",
       "        0.75778287],\n",
       "       [0.76422912, 0.76145069, 0.76307343, ..., 0.75029478, 0.74791401,\n",
       "        0.75019684],\n",
       "       [0.76216673, 0.76103652, 0.76655678, ..., 0.75262215, 0.74429869,\n",
       "        0.74552961]])"
      ]
     },
     "execution_count": 55,
     "metadata": {},
     "output_type": "execute_result"
    }
   ],
   "source": [
    "# Calculate GNDVI\n",
    "ndi45 = (band_nir.astype(float) - band_green.astype(float)) / (band_green.astype(float) + band_nir.astype(float))\n",
    "\n",
    "# Set spatial characteristics of the output object to mirror the input\n",
    "kwargs = src.meta\n",
    "kwargs.update(\n",
    "    dtype=rasterio.float32,\n",
    "    count = 1)\n",
    "\n",
    "# Create the file\n",
    "with rasterio.open('ndi45.tif', 'w', **kwargs) as dst:\n",
    "        dst.write_band(1, ndi45.astype(rasterio.float32))\n",
    "\n",
    "plt.imsave(\"ndi45_cmap.png\", ndi45, cmap=plt.cm.summer)\n",
    "\n",
    "ndi45"
   ]
  }
 ],
 "metadata": {
  "interpreter": {
   "hash": "30a604a86ea1a33be4084903b38db20f0823fd7bdf65f361659a9d44b972de77"
  },
  "kernelspec": {
   "display_name": "Python 3.8.12 ('geoenv')",
   "language": "python",
   "name": "python3"
  },
  "language_info": {
   "codemirror_mode": {
    "name": "ipython",
    "version": 3
   },
   "file_extension": ".py",
   "mimetype": "text/x-python",
   "name": "python",
   "nbconvert_exporter": "python",
   "pygments_lexer": "ipython3",
   "version": "3.10.2"
  },
  "orig_nbformat": 4
 },
 "nbformat": 4,
 "nbformat_minor": 2
}
